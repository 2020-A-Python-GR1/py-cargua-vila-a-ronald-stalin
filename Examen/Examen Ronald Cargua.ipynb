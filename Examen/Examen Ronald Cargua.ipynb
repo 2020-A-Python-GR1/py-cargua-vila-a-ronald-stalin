{
 "cells": [
  {
   "cell_type": "code",
   "execution_count": 24,
   "metadata": {},
   "outputs": [],
   "source": [
    "#Examen\n",
    "import numpy as np\n",
    "from scipy import ndimage\n",
    "from scipy import misc\n",
    "import pandas as pd\n",
    "import os"
   ]
  },
  {
   "cell_type": "code",
   "execution_count": 2,
   "metadata": {},
   "outputs": [
    {
     "data": {
      "text/plain": [
       "array([0., 0., 0., 0., 0., 0., 0., 0., 0., 0.])"
      ]
     },
     "execution_count": 2,
     "metadata": {},
     "output_type": "execute_result"
    }
   ],
   "source": [
    "## 2) Crear un vector de ceros de tamaño 10\n",
    "\n",
    "vector_de_ceros = np.zeros(10)\n",
    "vector_de_ceros"
   ]
  },
  {
   "cell_type": "code",
   "execution_count": 3,
   "metadata": {},
   "outputs": [
    {
     "data": {
      "text/plain": [
       "array([0., 0., 0., 0., 1., 0., 0., 0., 0., 0.])"
      ]
     },
     "execution_count": 3,
     "metadata": {},
     "output_type": "execute_result"
    }
   ],
   "source": [
    "## 3) Crear un vector de ceros de tamaño 10 y el de la posicion 5 sea igual a 1\n",
    "vector_de_ceros_dos = np.zeros(10)\n",
    "vector_de_ceros_dos[4] = 1 \n",
    "vector_de_ceros_dos"
   ]
  },
  {
   "cell_type": "code",
   "execution_count": 4,
   "metadata": {},
   "outputs": [
    {
     "name": "stdout",
     "output_type": "stream",
     "text": [
      "[49 48 47 46 45 44 43 42 41 40 39 38 37 36 35 34 33 32 31 30 29 28 27 26\n",
      " 25 24 23 22 21 20 19 18 17 16 15 14 13 12 11 10  9  8  7  6  5  4  3  2\n",
      "  1  0]\n"
     ]
    }
   ],
   "source": [
    "## 4) Cambiar el orden de un vector de 50 elementos, el de la posicion 1 es el de la 50 etc.\n",
    "vector_50_elementos = np.arange(50)\n",
    "print(vector_50_elementos[::-1])"
   ]
  },
  {
   "cell_type": "code",
   "execution_count": 5,
   "metadata": {},
   "outputs": [
    {
     "data": {
      "text/plain": [
       "array([[5, 4, 5],\n",
       "       [6, 0, 3],\n",
       "       [3, 8, 3]])"
      ]
     },
     "execution_count": 5,
     "metadata": {},
     "output_type": "execute_result"
    }
   ],
   "source": [
    "## 5) Crear una matriz de 3 x 3 con valores del cero al 8\n",
    "matriz_3x3 = np.random.randint(0,9, size=(3,3))\n",
    "matriz_3x3"
   ]
  },
  {
   "cell_type": "code",
   "execution_count": 6,
   "metadata": {},
   "outputs": [
    {
     "data": {
      "text/plain": [
       "(array([0], dtype=int64),)"
      ]
     },
     "execution_count": 6,
     "metadata": {},
     "output_type": "execute_result"
    }
   ],
   "source": [
    "## 6) Encontrar los indices que no sean cero en un arreglo\n",
    "arreglo = [1,2,0,0,4,0]\n",
    "no_ceros = np.where(arreglo != 0)\n",
    "no_ceros"
   ]
  },
  {
   "cell_type": "code",
   "execution_count": 7,
   "metadata": {},
   "outputs": [
    {
     "data": {
      "text/plain": [
       "array([[1., 0., 0.],\n",
       "       [0., 1., 0.],\n",
       "       [0., 0., 1.]])"
      ]
     },
     "execution_count": 7,
     "metadata": {},
     "output_type": "execute_result"
    }
   ],
   "source": [
    "## 7) Crear una matriz de identidad 3 x 3 \n",
    "matriz_identidad_3x3 = np.eye(3)\n",
    "matriz_identidad_3x3"
   ]
  },
  {
   "cell_type": "code",
   "execution_count": 8,
   "metadata": {},
   "outputs": [
    {
     "data": {
      "text/plain": [
       "array([[[5, 3, 6],\n",
       "        [3, 5, 2],\n",
       "        [6, 0, 3]],\n",
       "\n",
       "       [[8, 6, 8],\n",
       "        [1, 4, 1],\n",
       "        [5, 5, 8]],\n",
       "\n",
       "       [[5, 3, 4],\n",
       "        [7, 0, 2],\n",
       "        [5, 0, 8]]])"
      ]
     },
     "execution_count": 8,
     "metadata": {},
     "output_type": "execute_result"
    }
   ],
   "source": [
    "## 8) Crear una matriz 3 x 3 x 3 con valores randomicos\n",
    "matriz3x3x3 = np.random.randint(0,9, size=(3,3,3))\n",
    "matriz3x3x3"
   ]
  },
  {
   "cell_type": "code",
   "execution_count": 9,
   "metadata": {},
   "outputs": [
    {
     "name": "stdout",
     "output_type": "stream",
     "text": [
      "mayor 0.9964995275929506\n",
      "menor 0.008161397809003046\n"
     ]
    }
   ],
   "source": [
    "## 9) Crear una matriz 10 x 10 y encontrar el mayor y el menor\n",
    "matriz_10x10 = np.random.rand(10, 10)\n",
    "num_mayor = matriz_10x10.max()\n",
    "num_minimo = matriz_10x10.min()\n",
    "matriz_10x10\n",
    "print('mayor', num_mayor)\n",
    "print('menor', num_minimo)"
   ]
  },
  {
   "cell_type": "code",
   "execution_count": 10,
   "metadata": {},
   "outputs": [
    {
     "ename": "IndexError",
     "evalue": "index 255 is out of bounds for axis 2 with size 3",
     "output_type": "error",
     "traceback": [
      "\u001b[1;31m---------------------------------------------------------------------------\u001b[0m",
      "\u001b[1;31mIndexError\u001b[0m                                Traceback (most recent call last)",
      "\u001b[1;32m<ipython-input-10-90cf56983d6c>\u001b[0m in \u001b[0;36m<module>\u001b[1;34m\u001b[0m\n\u001b[0;32m      2\u001b[0m \u001b[0mmapache\u001b[0m \u001b[1;33m=\u001b[0m \u001b[0mmisc\u001b[0m\u001b[1;33m.\u001b[0m\u001b[0mface\u001b[0m\u001b[1;33m(\u001b[0m\u001b[1;33m)\u001b[0m\u001b[1;33m\u001b[0m\u001b[1;33m\u001b[0m\u001b[0m\n\u001b[0;32m      3\u001b[0m \u001b[0mcolor_1\u001b[0m \u001b[1;33m=\u001b[0m \u001b[0mmapache\u001b[0m\u001b[1;33m.\u001b[0m\u001b[0mitem\u001b[0m\u001b[1;33m(\u001b[0m\u001b[1;36m0\u001b[0m\u001b[1;33m,\u001b[0m\u001b[1;36m0\u001b[0m\u001b[1;33m,\u001b[0m\u001b[1;36m0\u001b[0m\u001b[1;33m)\u001b[0m\u001b[1;33m\u001b[0m\u001b[1;33m\u001b[0m\u001b[0m\n\u001b[1;32m----> 4\u001b[1;33m \u001b[0mcolor_2\u001b[0m \u001b[1;33m=\u001b[0m \u001b[0mmapache\u001b[0m\u001b[1;33m.\u001b[0m\u001b[0mitem\u001b[0m\u001b[1;33m(\u001b[0m\u001b[1;36m255\u001b[0m\u001b[1;33m,\u001b[0m\u001b[1;36m255\u001b[0m\u001b[1;33m,\u001b[0m\u001b[1;36m255\u001b[0m\u001b[1;33m)\u001b[0m\u001b[1;33m\u001b[0m\u001b[1;33m\u001b[0m\u001b[0m\n\u001b[0m",
      "\u001b[1;31mIndexError\u001b[0m: index 255 is out of bounds for axis 2 with size 3"
     ]
    }
   ],
   "source": [
    "## 10) Sacar los colores RGB unicos en una imagen (cuales rgb existen ej: 0, 0, 0 - 255,255,255 -> 2 colores)\n",
    "mapache = misc.face()\n",
    "color_1 = mapache.item(0,0,0)\n",
    "color_2 = mapache.item(255,255,255)"
   ]
  },
  {
   "cell_type": "code",
   "execution_count": 11,
   "metadata": {},
   "outputs": [
    {
     "data": {
      "text/plain": [
       "a     0\n",
       "b     1\n",
       "c     2\n",
       "e     3\n",
       "d     4\n",
       "f     5\n",
       "g     6\n",
       "h     7\n",
       "i     8\n",
       "j     9\n",
       "k    10\n",
       "l    11\n",
       "m    12\n",
       "n    13\n",
       "o    14\n",
       "p    15\n",
       "q    16\n",
       "r    17\n",
       "s    18\n",
       "t    19\n",
       "u    20\n",
       "v    21\n",
       "w    22\n",
       "x    23\n",
       "y    24\n",
       "z    25\n",
       "dtype: int64"
      ]
     },
     "execution_count": 11,
     "metadata": {},
     "output_type": "execute_result"
    }
   ],
   "source": [
    "## 11) ¿Como crear una serie de una lista, diccionario o arreglo?\n",
    "mylist = list('abcedfghijklmnopqrstuvwxyz')\n",
    "myarr = np.arange(26)\n",
    "mydict = dict(zip(mylist, myarr))\n",
    "\n",
    "mylist_serie = pd.Series(mylist)\n",
    "myarr_serie = pd.Series(myarr)\n",
    "mydict = pd.Series(mydict)\n",
    "\n",
    "mydict"
   ]
  },
  {
   "cell_type": "code",
   "execution_count": 12,
   "metadata": {},
   "outputs": [],
   "source": [
    "## 12) ¿Como convertir el indice de una serie en una columna de un DataFrame?\n",
    "\n",
    "mylist = list('abcedfghijklmnopqrstuvwxyz')\n",
    "myarr = np.arange(26)\n",
    "mydict = dict(zip(mylist, myarr))\n",
    "ser = pd.Series(mydict)"
   ]
  },
  {
   "cell_type": "code",
   "execution_count": 13,
   "metadata": {},
   "outputs": [
    {
     "name": "stdout",
     "output_type": "stream",
     "text": [
      "   letras  numeros\n",
      "0       a        0\n",
      "1       b        1\n",
      "2       c        2\n",
      "3       e        3\n",
      "4       d        4\n",
      "5       f        5\n",
      "6       g        6\n",
      "7       h        7\n",
      "8       i        8\n",
      "9       j        9\n",
      "10      k       10\n",
      "11      l       11\n",
      "12      m       12\n",
      "13      n       13\n",
      "14      o       14\n",
      "15      p       15\n",
      "16      q       16\n",
      "17      r       17\n",
      "18      s       18\n",
      "19      t       19\n",
      "20      u       20\n",
      "21      v       21\n",
      "22      w       22\n",
      "23      x       23\n",
      "24      y       24\n",
      "25      z       25\n"
     ]
    }
   ],
   "source": [
    "## 13) ¿Como combinar varias series para hacer un DataFrame?\n",
    "ser1 = pd.Series(list('abcedfghijklmnopqrstuvwxyz'))\n",
    "ser2 = pd.Series(np.arange(26))\n",
    "\n",
    "df_datos = {\"letras\": ser1, \"numeros\": ser2} \n",
    "df_combinacion = pd.DataFrame(df_datos)\n",
    "print(df_combinacion)"
   ]
  },
  {
   "cell_type": "code",
   "execution_count": 14,
   "metadata": {},
   "outputs": [
    {
     "name": "stdout",
     "output_type": "stream",
     "text": [
      "items\n",
      "0    1\n",
      "1    2\n",
      "2    3\n",
      "dtype: int64\n"
     ]
    }
   ],
   "source": [
    "## 14) ¿Como obtener los items que esten en una serie A y no en una serie B?\n",
    "ser1 = pd.Series([1, 2, 3, 4, 5])\n",
    "ser2 = pd.Series([4, 5, 6, 7, 8])\n",
    "\n",
    "items_A = ser1[~ser1.isin(ser2)]\n",
    "\n",
    "print(f\"items\\n{items_A}\")"
   ]
  },
  {
   "cell_type": "code",
   "execution_count": 15,
   "metadata": {},
   "outputs": [
    {
     "name": "stdout",
     "output_type": "stream",
     "text": [
      "no comunes\n",
      "0    1\n",
      "1    2\n",
      "2    3\n",
      "2    6\n",
      "3    7\n",
      "4    8\n",
      "dtype: int64\n"
     ]
    }
   ],
   "source": [
    "## 15) ¿Como obtener los items que no son comunes en una serie A y serie B?\n",
    "ser1 = pd.Series([1, 2, 3, 4, 5])\n",
    "ser2 = pd.Series([4, 5, 6, 7, 8])\n",
    "\n",
    "items_A = ser1[~ser1.isin(ser2)]\n",
    "items_B = ser2[~ser2.isin(ser1)]\n",
    "items_no_comunes = pd.concat([items_A, items_B])\n",
    "\n",
    "print(f\"no comunes\\n{items_no_comunes}\")"
   ]
  },
  {
   "cell_type": "code",
   "execution_count": 16,
   "metadata": {},
   "outputs": [
    {
     "name": "stdout",
     "output_type": "stream",
     "text": [
      "0     d\n",
      "1     c\n",
      "2     e\n",
      "3     h\n",
      "4     b\n",
      "5     d\n",
      "6     a\n",
      "7     d\n",
      "8     f\n",
      "9     e\n",
      "10    d\n",
      "11    c\n",
      "12    g\n",
      "13    a\n",
      "14    f\n",
      "15    a\n",
      "16    g\n",
      "17    a\n",
      "18    b\n",
      "19    a\n",
      "20    a\n",
      "21    c\n",
      "22    a\n",
      "23    d\n",
      "24    g\n",
      "25    f\n",
      "26    g\n",
      "27    b\n",
      "28    d\n",
      "29    f\n",
      "dtype: object\n"
     ]
    }
   ],
   "source": [
    "## 16) ¿Como obtener el numero de veces que se repite un valor en una serie?\n",
    "ser = pd.Series(np.take(list('abcdefgh'), np.random.randint(8, size=30)))\n",
    "print(ser)"
   ]
  },
  {
   "cell_type": "code",
   "execution_count": 17,
   "metadata": {},
   "outputs": [
    {
     "data": {
      "text/plain": [
       "array([4, 3, 2, 1])"
      ]
     },
     "execution_count": 17,
     "metadata": {},
     "output_type": "execute_result"
    }
   ],
   "source": [
    "## 17) ¿Como mantener los 2 valores mas repetidos de una serie, y a los demas valores cambiarles por 0 ?\n",
    "np.random.RandomState(100)\n",
    "ser = pd.Series(np.random.randint(1, 5, [12]))\n",
    "\n",
    "valor_unicos = ser.unique()\n",
    "valor_unicos"
   ]
  },
  {
   "cell_type": "code",
   "execution_count": 30,
   "metadata": {},
   "outputs": [
    {
     "data": {
      "text/plain": [
       "0     6\n",
       "1     8\n",
       "2     4\n",
       "3     5\n",
       "4     3\n",
       "5     8\n",
       "6     6\n",
       "7     5\n",
       "8     6\n",
       "9     7\n",
       "10    2\n",
       "11    1\n",
       "12    2\n",
       "13    5\n",
       "14    2\n",
       "15    1\n",
       "16    3\n",
       "17    6\n",
       "18    2\n",
       "19    3\n",
       "20    4\n",
       "21    6\n",
       "22    4\n",
       "23    1\n",
       "24    7\n",
       "25    7\n",
       "26    1\n",
       "27    6\n",
       "28    1\n",
       "29    3\n",
       "30    1\n",
       "31    5\n",
       "32    3\n",
       "33    1\n",
       "34    8\n",
       "dtype: int32"
      ]
     },
     "execution_count": 30,
     "metadata": {},
     "output_type": "execute_result"
    }
   ],
   "source": [
    "## 18) ¿Como transformar una serie de un arreglo de numpy a un DataFrame con un `shape` definido?\n",
    "\n",
    "ser = pd.Series(np.random.randint(1, 10, 35))\n",
    "#shape(7,5)\n",
    "ser"
   ]
  },
  {
   "cell_type": "code",
   "execution_count": 29,
   "metadata": {},
   "outputs": [],
   "source": [
    "## 19) ¿Obtener los valores de una serie conociendo la posicion por indice?\n",
    "ser = pd.Series(list('abcdefghijklmnopqrstuvwxyz'))\n",
    "pos = [0, 4, 8, 14, 20]\n",
    "# a e i o u\n",
    "ser2 =pd.Series(ser,index=[0,4,8,14,20]) "
   ]
  },
  {
   "cell_type": "code",
   "execution_count": 22,
   "metadata": {},
   "outputs": [
    {
     "data": {
      "text/html": [
       "<div>\n",
       "<style scoped>\n",
       "    .dataframe tbody tr th:only-of-type {\n",
       "        vertical-align: middle;\n",
       "    }\n",
       "\n",
       "    .dataframe tbody tr th {\n",
       "        vertical-align: top;\n",
       "    }\n",
       "\n",
       "    .dataframe thead th {\n",
       "        text-align: right;\n",
       "    }\n",
       "</style>\n",
       "<table border=\"1\" class=\"dataframe\">\n",
       "  <thead>\n",
       "    <tr style=\"text-align: right;\">\n",
       "      <th></th>\n",
       "      <th>0</th>\n",
       "      <th>0</th>\n",
       "    </tr>\n",
       "  </thead>\n",
       "  <tbody>\n",
       "    <tr>\n",
       "      <th>0</th>\n",
       "      <td>0</td>\n",
       "      <td>a</td>\n",
       "    </tr>\n",
       "    <tr>\n",
       "      <th>1</th>\n",
       "      <td>1</td>\n",
       "      <td>b</td>\n",
       "    </tr>\n",
       "    <tr>\n",
       "      <th>2</th>\n",
       "      <td>2</td>\n",
       "      <td>c</td>\n",
       "    </tr>\n",
       "    <tr>\n",
       "      <th>3</th>\n",
       "      <td>3</td>\n",
       "      <td>d</td>\n",
       "    </tr>\n",
       "    <tr>\n",
       "      <th>4</th>\n",
       "      <td>4</td>\n",
       "      <td>e</td>\n",
       "    </tr>\n",
       "  </tbody>\n",
       "</table>\n",
       "</div>"
      ],
      "text/plain": [
       "   0  0\n",
       "0  0  a\n",
       "1  1  b\n",
       "2  2  c\n",
       "3  3  d\n",
       "4  4  e"
      ]
     },
     "execution_count": 22,
     "metadata": {},
     "output_type": "execute_result"
    }
   ],
   "source": [
    "## 20) ¿Como anadir series vertical u horizontalmente a un DataFrame?\n",
    "ser1 = pd.Series(range(5))\n",
    "ser2 = pd.Series(list('abcde'))\n",
    "df_ser1 = pd.DataFrame(ser1)\n",
    "df_ser2 = pd.DataFrame(ser2)\n",
    "\n",
    "df_vertical = pd.concat([df_ser1, df_ser2], axis=0)\n",
    "df_vertical\n",
    "\n",
    "df_horizontal = pd.concat([df_ser1, df_ser2], axis=1)\n",
    "df_horizontal"
   ]
  },
  {
   "cell_type": "code",
   "execution_count": 26,
   "metadata": {},
   "outputs": [
    {
     "name": "stdout",
     "output_type": "stream",
     "text": [
      "[1.0, 2.0, 3.0, 4.0, 5.0, 6.0, 7.0, 8.0, 9.0, 10.0]\n",
      "['manzana', 'zanahoria', 'zanahoria', 'manzana', 'manzana', 'banana', 'zanahoria', 'banana', 'banana', 'banana']\n"
     ]
    }
   ],
   "source": [
    "## 21)¿Obtener la media de una serie agrupada por otra serie?\n",
    "frutas = pd.Series(np.random.choice(['manzana', 'banana', 'zanahoria'], 10))\n",
    "pesos = pd.Series(np.linspace(1, 10, 10))\n",
    "print(pesos.tolist())\n",
    "print(frutas.tolist())"
   ]
  },
  {
   "cell_type": "code",
   "execution_count": 25,
   "metadata": {},
   "outputs": [],
   "source": [
    "## 22)¿Como importar solo columnas especificas de un archivo csv?\n",
    "\n",
    "path = \"./Data/BostonHousing.csv\"\n",
    "df1 = pd.read_csv(path, nrows=10)\n",
    "columnas = ['crim','zn', 'indus','chas']\n",
    "df2 = pd.read_csv(path,nrows=10,usecols=columnas)"
   ]
  },
  {
   "cell_type": "code",
   "execution_count": null,
   "metadata": {},
   "outputs": [],
   "source": []
  }
 ],
 "metadata": {
  "kernelspec": {
   "display_name": "Python 3",
   "language": "python",
   "name": "python3"
  },
  "language_info": {
   "codemirror_mode": {
    "name": "ipython",
    "version": 3
   },
   "file_extension": ".py",
   "mimetype": "text/x-python",
   "name": "python",
   "nbconvert_exporter": "python",
   "pygments_lexer": "ipython3",
   "version": "3.7.6"
  }
 },
 "nbformat": 4,
 "nbformat_minor": 4
}
