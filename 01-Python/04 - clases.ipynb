{
 "cells": [
  {
   "cell_type": "code",
   "execution_count": 12,
   "metadata": {},
   "outputs": [
    {
     "name": "stdout",
     "output_type": "stream",
     "text": [
      "Empezo el constructor\n",
      "Rosado\n",
      "140.39999999999998\n",
      "Color: Rosado \n",
      "Numero Chasis: 120\n"
     ]
    }
   ],
   "source": [
    "class Auto : \n",
    "    color = None # Publico\n",
    "    __numero_chasis = 1 # Privado\n",
    "    \n",
    "    def __init__(self, color): # self  = this\n",
    "        print(\"Empezo el constructor\")\n",
    "        self.color = color\n",
    "        \n",
    "    def setear_chasis(self, numero_chasis):\n",
    "        self.__numero_chasis = numero_chasis\n",
    "        return self.__calculo_chasis()\n",
    "    \n",
    "    def __calculo_chasis(self):\n",
    "        return self.__numero_chasis * 1.17\n",
    "    \n",
    "    def __str__(self):\n",
    "        return f\"Color: {self.color} \\nNumero Chasis: {self.__numero_chasis}\"\n",
    "nuevo_auto = Auto(\"Rosado\")\n",
    "print(nuevo_auto.color)\n",
    "print(nuevo_auto.setear_chasis(120))\n",
    "print(nuevo_auto)"
   ]
  },
  {
   "cell_type": "code",
   "execution_count": 16,
   "metadata": {},
   "outputs": [],
   "source": [
    "class BMW(Auto):\n",
    "    def __init__(self, color, chasis):\n",
    "        print(\"Iniciar constructor hijo\")\n",
    "        super().__init__(color)\n",
    "        super().setear_chasis(chasis)"
   ]
  },
  {
   "cell_type": "code",
   "execution_count": 17,
   "metadata": {},
   "outputs": [
    {
     "name": "stdout",
     "output_type": "stream",
     "text": [
      "Iniciar constructor hijo\n",
      "Empezo el constructor\n",
      "Color: Blanco \n",
      "Numero Chasis: 150\n"
     ]
    }
   ],
   "source": [
    "nuevo_bmw = BMW(\"Blanco\", 150)\n",
    "print(nuevo_bmw)"
   ]
  },
  {
   "cell_type": "code",
   "execution_count": null,
   "metadata": {},
   "outputs": [],
   "source": []
  }
 ],
 "metadata": {
  "kernelspec": {
   "display_name": "Python 3",
   "language": "python",
   "name": "python3"
  },
  "language_info": {
   "codemirror_mode": {
    "name": "ipython",
    "version": 3
   },
   "file_extension": ".py",
   "mimetype": "text/x-python",
   "name": "python",
   "nbconvert_exporter": "python",
   "pygments_lexer": "ipython3",
   "version": "3.7.6"
  }
 },
 "nbformat": 4,
 "nbformat_minor": 4
}
