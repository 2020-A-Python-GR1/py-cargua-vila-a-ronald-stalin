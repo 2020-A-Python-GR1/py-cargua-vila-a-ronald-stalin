{
 "cells": [
  {
   "cell_type": "code",
   "execution_count": 9,
   "metadata": {},
   "outputs": [],
   "source": [
    "# asdasdsad NameError\n",
    "# dfasdf  sdfasdf SyntaxError\n",
    "# 0/0 ZeroDivisionError\n",
    "# a = {'b':'b'} \n",
    "# a['c'] KeyError"
   ]
  },
  {
   "cell_type": "code",
   "execution_count": 25,
   "metadata": {},
   "outputs": [
    {
     "name": "stdout",
     "output_type": "stream",
     "text": [
      "name 'asdasdsad' is not defined\n"
     ]
    }
   ],
   "source": [
    "try:\n",
    "    asdasdsad\n",
    "    0/0\n",
    "    a = {'b':'b'} \n",
    "    a['c']\n",
    "except NameError as nameError:\n",
    "    print(\"Name error, variable no declarada\")\n",
    "except (ZeroDivisionError, KeyError) as errorComun:\n",
    "    print(\"Error comun en python\")\n",
    "except Exception as error:\n",
    "    print(error)"
   ]
  },
  {
   "cell_type": "code",
   "execution_count": 1,
   "metadata": {},
   "outputs": [
    {
     "ename": "SyntaxError",
     "evalue": "EOL while scanning string literal (<ipython-input-1-410e2cf0eb62>, line 1)",
     "output_type": "error",
     "traceback": [
      "\u001b[1;36m  File \u001b[1;32m\"<ipython-input-1-410e2cf0eb62>\"\u001b[1;36m, line \u001b[1;32m1\u001b[0m\n\u001b[1;33m    def a('b):\u001b[0m\n\u001b[1;37m              ^\u001b[0m\n\u001b[1;31mSyntaxError\u001b[0m\u001b[1;31m:\u001b[0m EOL while scanning string literal\n"
     ]
    }
   ],
   "source": [
    "def a('b):\n",
    "    for c in b:\n",
    "        print(c)"
   ]
  },
  {
   "cell_type": "code",
   "execution_count": 5,
   "metadata": {},
   "outputs": [],
   "source": [
    "a = (1, 2, 3, 2, 3, 3, \"a\", \"b\", \"c\", \"c\")"
   ]
  },
  {
   "cell_type": "code",
   "execution_count": 22,
   "metadata": {},
   "outputs": [
    {
     "name": "stdout",
     "output_type": "stream",
     "text": [
      "No\n"
     ]
    }
   ],
   "source": [
    "diccionario = []\n",
    "if diccionario: \n",
    "    print(\"Si\") \n",
    "else:\n",
    "    print(\"No\")"
   ]
  },
  {
   "cell_type": "code",
   "execution_count": null,
   "metadata": {},
   "outputs": [],
   "source": []
  }
 ],
 "metadata": {
  "kernelspec": {
   "display_name": "Python 3",
   "language": "python",
   "name": "python3"
  },
  "language_info": {
   "codemirror_mode": {
    "name": "ipython",
    "version": 3
   },
   "file_extension": ".py",
   "mimetype": "text/x-python",
   "name": "python",
   "nbconvert_exporter": "python",
   "pygments_lexer": "ipython3",
   "version": "3.7.6"
  }
 },
 "nbformat": 4,
 "nbformat_minor": 4
}
